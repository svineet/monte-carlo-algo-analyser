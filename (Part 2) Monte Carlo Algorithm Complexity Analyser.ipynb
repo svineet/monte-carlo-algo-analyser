{
 "cells": [
  {
   "cell_type": "code",
   "execution_count": 1,
   "metadata": {},
   "outputs": [],
   "source": [
    "import numpy as np\n",
    "import pandas as pd\n",
    "from matplotlib import pyplot as plt\n",
    "\n",
    "\n",
    "%matplotlib inline"
   ]
  },
  {
   "cell_type": "markdown",
   "metadata": {},
   "source": [
    "Analysing COVID-19 testing algorithm via Monte Carlo\n",
    "===\n",
    "\n",
    "See [this blog post](https://medium.com/@svineet/analysing-the-covid-19-binary-search-testing-algorithm-via-monte-carlo-method-part-1-951049cdb212)\n",
    "\n",
    "This notebook is implementation of Part 2."
   ]
  },
  {
   "cell_type": "markdown",
   "metadata": {},
   "source": [
    "Some utilities\n",
    "==="
   ]
  },
  {
   "cell_type": "code",
   "execution_count": 2,
   "metadata": {},
   "outputs": [],
   "source": [
    "class CostCounter:\n",
    "    def __init__(self):\n",
    "        self.count = 0\n",
    "    \n",
    "    def increment(self):\n",
    "        self.count += 1"
   ]
  },
  {
   "cell_type": "markdown",
   "metadata": {},
   "source": [
    "Population Data Structure\n",
    "==="
   ]
  },
  {
   "cell_type": "code",
   "execution_count": 25,
   "metadata": {},
   "outputs": [],
   "source": [
    "from bisect import bisect_left, bisect_right\n",
    "\n",
    "\n",
    "class COVIDPopulation:\n",
    "    def __init__(self, N, K):\n",
    "        \"\"\"\n",
    "            K is the number of infected persons in N number of people.\n",
    "            It's not a percentage.\n",
    "        \"\"\"\n",
    "        self.N = N\n",
    "        \n",
    "        # Now we only need to store the indices of people who are infected.\n",
    "        # So we generate those via np.random.choice\n",
    "        self._people_infected = np.sort(np.random.choice(N, K, replace=False))\n",
    "    \n",
    "    def is_infected(self, left: int, right: int):\n",
    "        \"\"\"\n",
    "            Check if there are numbers in self._people_infected that are between\n",
    "            left and right, inclusive.\n",
    "        \"\"\"\n",
    "        left_dex = bisect_left(self._people_infected, left)\n",
    "        right_dex = bisect_right(self._people_infected, right)\n",
    "        \n",
    "        return (right_dex-left_dex) > 0\n",
    "\n",
    "    def __str__(self):\n",
    "        return \"Infected: \" + str(self._people_infected) + f\" out of {self.N}\"\n",
    "\n",
    "    def __repr__(self):\n",
    "        return self.__str__()"
   ]
  },
  {
   "cell_type": "code",
   "execution_count": 26,
   "metadata": {},
   "outputs": [
    {
     "name": "stdout",
     "output_type": "stream",
     "text": [
      "[3 4 5]\n",
      "True\n",
      "True\n",
      "False\n",
      "True\n"
     ]
    }
   ],
   "source": [
    "pop = COVIDPopulation(10, 3)\n",
    "print(pop._people_infected)\n",
    "\n",
    "print(pop.is_infected(2, 3))\n",
    "print(pop.is_infected(2, 5))\n",
    "print(pop.is_infected(8, 9))\n",
    "print(pop.is_infected(4, 4))"
   ]
  },
  {
   "cell_type": "markdown",
   "metadata": {},
   "source": [
    "Actual Algorithm\n",
    "==="
   ]
  },
  {
   "cell_type": "code",
   "execution_count": 135,
   "metadata": {},
   "outputs": [],
   "source": [
    "# The user provides all these functions. Self explanatory.\n",
    "import math\n",
    "\n",
    "DEBUG = False\n",
    "\n",
    "\n",
    "def generate_input_sample(params):\n",
    "    population = COVIDPopulation(params[\"N\"], params[\"K\"])\n",
    "\n",
    "    return population\n",
    "\n",
    "\n",
    "def covid_binary_search(population, start, end, costly):\n",
    "    if start > end: return\n",
    "\n",
    "    # Test this whole population segment\n",
    "    # Practically speaking, mix blood and do the COVID test\n",
    "    if DEBUG: print(f\"Testing: {start} to {end}\")\n",
    "    costly()\n",
    "    if not population.is_infected(start, end):\n",
    "        return\n",
    "\n",
    "    # No more splitting if start == end. We just tested an individual.\n",
    "    if start == end: return\n",
    "\n",
    "    # Split into two segments [start, mid] and [mid+1, end]\n",
    "    mid = math.floor((start+end)/2)\n",
    "    covid_binary_search(population, start, mid, costly)\n",
    "    covid_binary_search(population, mid+1, end, costly)\n",
    "\n",
    "\n",
    "def covid_binary_search_wrapper(input_sample, costly):\n",
    "    population = input_sample\n",
    "    n = population.N\n",
    "\n",
    "    return covid_binary_search(population, 0, n-1, costly)"
   ]
  },
  {
   "cell_type": "markdown",
   "metadata": {},
   "source": [
    "Testing our implementation\n",
    "==="
   ]
  },
  {
   "cell_type": "code",
   "execution_count": 139,
   "metadata": {},
   "outputs": [
    {
     "data": {
      "text/plain": [
       "Infected: [22 29 31 33 34] out of 100"
      ]
     },
     "execution_count": 139,
     "metadata": {},
     "output_type": "execute_result"
    }
   ],
   "source": [
    "sample = generate_input_sample({\"N\": 100, \"K\": 5 })\n",
    "sample"
   ]
  },
  {
   "cell_type": "code",
   "execution_count": 140,
   "metadata": {},
   "outputs": [],
   "source": [
    "cost_count = CostCounter()\n",
    "covid_binary_search_wrapper(sample, cost_count.increment)"
   ]
  },
  {
   "cell_type": "code",
   "execution_count": 141,
   "metadata": {},
   "outputs": [
    {
     "data": {
      "text/plain": [
       "31"
      ]
     },
     "execution_count": 141,
     "metadata": {},
     "output_type": "execute_result"
    }
   ],
   "source": [
    "cost_count.count"
   ]
  },
  {
   "cell_type": "markdown",
   "metadata": {},
   "source": [
    "Monte Carlo, we are here\n",
    "==="
   ]
  },
  {
   "cell_type": "code",
   "execution_count": 144,
   "metadata": {},
   "outputs": [],
   "source": [
    "# HYPERPARAMETER ALERT!\n",
    "NUMBER_OF_SAMPLES = 1000\n",
    "K_PCT = 5\n",
    "\n",
    "\n",
    "def get_t_n(target_algorithm, n):\n",
    "    counts = []\n",
    "\n",
    "    # Generate a data set, crunch it, record the frequency\n",
    "    for i in range(NUMBER_OF_SAMPLES):\n",
    "        sample = generate_input_sample({ \"N\": n, \"K\": math.ceil(K_PCT*n/100) })\n",
    "        cost_count = CostCounter()\n",
    "\n",
    "        target_algorithm(sample, cost_count.increment)\n",
    "        counts.append(cost_count.count)\n",
    "\n",
    "    # Return average number of operations that happened\n",
    "    return np.mean(counts), counts"
   ]
  },
  {
   "cell_type": "code",
   "execution_count": 145,
   "metadata": {},
   "outputs": [
    {
     "name": "stdout",
     "output_type": "stream",
     "text": [
      "CPU times: user 3.69 s, sys: 0 ns, total: 3.69 s\n",
      "Wall time: 3.7 s\n"
     ]
    },
    {
     "data": {
      "text/plain": [
       "(457.34, [457, 459, 443, 479, 479, 461, 445, 463, 489, 457])"
      ]
     },
     "execution_count": 145,
     "metadata": {},
     "output_type": "execute_result"
    }
   ],
   "source": [
    "%%time\n",
    "\n",
    "t_n, counts = get_t_n(covid_binary_search_wrapper, 1000) # Get T(1000)\n",
    "t_n, counts[:10]"
   ]
  },
  {
   "cell_type": "markdown",
   "metadata": {},
   "source": [
    "Histogram of `time measure` taken\n",
    "==="
   ]
  },
  {
   "cell_type": "code",
   "execution_count": 146,
   "metadata": {},
   "outputs": [
    {
     "data": {
      "text/plain": [
       "(array([  7.,  20.,  39., 131., 209., 223., 219., 107.,  34.,  11.]),\n",
       " array([411. , 419.6, 428.2, 436.8, 445.4, 454. , 462.6, 471.2, 479.8,\n",
       "        488.4, 497. ]),\n",
       " <a list of 10 Patch objects>)"
      ]
     },
     "execution_count": 146,
     "metadata": {},
     "output_type": "execute_result"
    },
    {
     "data": {
      "image/png": "[encoded data removed]",
      "text/plain": [
       "<Figure size 432x288 with 1 Axes>"
      ]
     },
     "metadata": {
      "needs_background": "light"
     },
     "output_type": "display_data"
    }
   ],
   "source": [
    "plt.hist(counts)"
   ]
  },
  {
   "cell_type": "markdown",
   "metadata": {},
   "source": [
    "Analysis\n",
    "---\n",
    "\n",
    "Interesting! Looks like a normal distribution to me. Mean is at ~`460` with about `5%` of the population being tested infected."
   ]
  },
  {
   "cell_type": "code",
   "execution_count": 147,
   "metadata": {},
   "outputs": [
    {
     "data": {
      "text/plain": [
       "(497, 457.34)"
      ]
     },
     "execution_count": 147,
     "metadata": {},
     "output_type": "execute_result"
    }
   ],
   "source": [
    "np.max(counts), np.mean(counts)"
   ]
  },
  {
   "cell_type": "markdown",
   "metadata": {},
   "source": [
    "Obtaining $T(N)$ dataset\n",
    "==="
   ]
  },
  {
   "cell_type": "code",
   "execution_count": 149,
   "metadata": {},
   "outputs": [
    {
     "name": "stdout",
     "output_type": "stream",
     "text": [
      "At 50\n",
      "At 51\n",
      "At 52\n",
      "At 53\n",
      "At 54\n",
      "At 55\n",
      "At 56\n",
      "At 57\n",
      "At 58\n",
      "At 59\n",
      "At 60\n",
      "At 61\n",
      "At 62\n",
      "At 63\n",
      "At 64\n",
      "At 65\n",
      "At 66\n",
      "At 67\n",
      "At 68\n",
      "At 69\n",
      "At 70\n",
      "At 71\n",
      "At 72\n",
      "At 73\n",
      "At 74\n",
      "At 75\n",
      "At 76\n",
      "At 77\n",
      "At 78\n",
      "At 79\n",
      "At 80\n",
      "At 81\n",
      "At 82\n",
      "At 83\n",
      "At 84\n",
      "At 85\n",
      "At 86\n",
      "At 87\n",
      "At 88\n",
      "At 89\n",
      "At 90\n",
      "At 91\n",
      "At 92\n",
      "At 93\n",
      "At 94\n",
      "At 95\n",
      "At 96\n",
      "At 97\n",
      "At 98\n",
      "At 99\n",
      "At 100\n",
      "At 101\n",
      "At 102\n",
      "At 103\n",
      "At 104\n",
      "At 105\n",
      "At 106\n",
      "At 107\n",
      "At 108\n",
      "At 109\n",
      "At 110\n",
      "At 111\n",
      "At 112\n",
      "At 113\n",
      "At 114\n",
      "At 115\n",
      "At 116\n",
      "At 117\n",
      "At 118\n",
      "At 119\n",
      "At 120\n",
      "At 121\n",
      "At 122\n",
      "At 123\n",
      "At 124\n",
      "At 125\n",
      "At 126\n",
      "At 127\n",
      "At 128\n",
      "At 129\n",
      "At 130\n",
      "At 131\n",
      "At 132\n",
      "At 133\n",
      "At 134\n",
      "At 135\n",
      "At 136\n",
      "At 137\n",
      "At 138\n",
      "At 139\n",
      "At 140\n",
      "At 141\n",
      "At 142\n",
      "At 143\n",
      "At 144\n",
      "At 145\n",
      "At 146\n",
      "At 147\n",
      "At 148\n",
      "At 149\n",
      "At 150\n",
      "At 151\n",
      "At 152\n",
      "At 153\n",
      "At 154\n",
      "At 155\n",
      "At 156\n",
      "At 157\n",
      "At 158\n",
      "At 159\n",
      "At 160\n",
      "At 161\n",
      "At 162\n",
      "At 163\n",
      "At 164\n",
      "At 165\n",
      "At 166\n",
      "At 167\n",
      "At 168\n",
      "At 169\n",
      "At 170\n",
      "At 171\n",
      "At 172\n",
      "At 173\n",
      "At 174\n",
      "At 175\n",
      "At 176\n",
      "At 177\n",
      "At 178\n",
      "At 179\n",
      "At 180\n",
      "At 181\n",
      "At 182\n",
      "At 183\n",
      "At 184\n",
      "At 185\n",
      "At 186\n",
      "At 187\n",
      "At 188\n",
      "At 189\n",
      "At 190\n",
      "At 191\n",
      "At 192\n",
      "At 193\n",
      "At 194\n",
      "At 195\n",
      "At 196\n",
      "At 197\n",
      "At 198\n",
      "At 199\n",
      "At 200\n",
      "At 201\n",
      "At 202\n",
      "At 203\n",
      "At 204\n",
      "At 205\n",
      "At 206\n",
      "At 207\n",
      "At 208\n",
      "At 209\n",
      "At 210\n",
      "At 211\n",
      "At 212\n",
      "At 213\n",
      "At 214\n",
      "At 215\n",
      "At 216\n",
      "At 217\n",
      "At 218\n",
      "At 219\n",
      "At 220\n",
      "At 221\n",
      "At 222\n",
      "At 223\n",
      "At 224\n",
      "At 225\n",
      "At 226\n",
      "At 227\n",
      "At 228\n",
      "At 229\n",
      "At 230\n",
      "At 231\n",
      "At 232\n",
      "At 233\n",
      "At 234\n",
      "At 235\n",
      "At 236\n",
      "At 237\n",
      "At 238\n",
      "At 239\n",
      "At 240\n",
      "At 241\n",
      "At 242\n",
      "At 243\n",
      "At 244\n",
      "At 245\n",
      "At 246\n",
      "At 247\n",
      "At 248\n",
      "At 249\n",
      "At 250\n",
      "At 251\n",
      "At 252\n",
      "At 253\n",
      "At 254\n",
      "At 255\n",
      "At 256\n",
      "At 257\n",
      "At 258\n",
      "At 259\n",
      "At 260\n",
      "At 261\n",
      "At 262\n",
      "At 263\n",
      "At 264\n",
      "At 265\n",
      "At 266\n",
      "At 267\n",
      "At 268\n",
      "At 269\n",
      "At 270\n",
      "At 271\n",
      "At 272\n",
      "At 273\n",
      "At 274\n",
      "At 275\n",
      "At 276\n",
      "At 277\n",
      "At 278\n",
      "At 279\n",
      "At 280\n",
      "At 281\n",
      "At 282\n",
      "At 283\n",
      "At 284\n",
      "At 285\n",
      "At 286\n",
      "At 287\n",
      "At 288\n",
      "At 289\n",
      "At 290\n",
      "At 291\n",
      "At 292\n",
      "At 293\n",
      "At 294\n",
      "At 295\n",
      "At 296\n",
      "At 297\n",
      "At 298\n",
      "At 299\n",
      "At 300\n",
      "At 301\n",
      "At 302\n",
      "At 303\n",
      "At 304\n",
      "At 305\n",
      "At 306\n",
      "At 307\n",
      "At 308\n",
      "At 309\n",
      "At 310\n",
      "At 311\n",
      "At 312\n",
      "At 313\n",
      "At 314\n",
      "At 315\n",
      "At 316\n",
      "At 317\n",
      "At 318\n",
      "At 319\n",
      "At 320\n",
      "At 321\n",
      "At 322\n",
      "At 323\n",
      "At 324\n",
      "At 325\n",
      "At 326\n",
      "At 327\n",
      "At 328\n",
      "At 329\n",
      "At 330\n",
      "At 331\n",
      "At 332\n",
      "At 333\n",
      "At 334\n",
      "At 335\n",
      "At 336\n",
      "At 337\n",
      "At 338\n",
      "At 339\n",
      "At 340\n",
      "At 341\n",
      "At 342\n",
      "At 343\n",
      "At 344\n",
      "At 345\n",
      "At 346\n",
      "At 347\n",
      "At 348\n",
      "At 349\n",
      "At 350\n",
      "At 351\n",
      "At 352\n",
      "At 353\n",
      "At 354\n",
      "At 355\n",
      "At 356\n",
      "At 357\n",
      "At 358\n",
      "At 359\n",
      "At 360\n",
      "At 361\n",
      "At 362\n",
      "At 363\n",
      "At 364\n",
      "At 365\n",
      "At 366\n",
      "At 367\n",
      "At 368\n",
      "At 369\n",
      "At 370\n",
      "At 371\n",
      "At 372\n",
      "At 373\n",
      "At 374\n",
      "At 375\n",
      "At 376\n",
      "At 377\n",
      "At 378\n",
      "At 379\n",
      "At 380\n",
      "At 381\n",
      "At 382\n",
      "At 383\n",
      "At 384\n",
      "At 385\n",
      "At 386\n",
      "At 387\n",
      "At 388\n",
      "At 389\n",
      "At 390\n",
      "At 391\n",
      "At 392\n",
      "At 393\n",
      "At 394\n",
      "At 395\n",
      "At 396\n",
      "At 397\n",
      "At 398\n",
      "At 399\n",
      "At 400\n",
      "At 401\n",
      "At 402\n",
      "At 403\n",
      "At 404\n",
      "At 405\n",
      "At 406\n",
      "At 407\n",
      "At 408\n",
      "At 409\n",
      "At 410\n",
      "At 411\n",
      "At 412\n",
      "At 413\n",
      "At 414\n",
      "At 415\n",
      "At 416\n",
      "At 417\n",
      "At 418\n",
      "At 419\n",
      "At 420\n",
      "At 421\n",
      "At 422\n",
      "At 423\n",
      "At 424\n",
      "At 425\n",
      "At 426\n",
      "At 427\n",
      "At 428\n",
      "At 429\n",
      "At 430\n",
      "At 431\n",
      "At 432\n",
      "At 433\n",
      "At 434\n",
      "At 435\n",
      "At 436\n",
      "At 437\n",
      "At 438\n",
      "At 439\n",
      "At 440\n",
      "At 441\n",
      "At 442\n",
      "At 443\n",
      "At 444\n",
      "At 445\n",
      "At 446\n",
      "At 447\n",
      "At 448\n",
      "At 449\n",
      "At 450\n",
      "At 451\n",
      "At 452\n",
      "At 453\n",
      "At 454\n",
      "At 455\n",
      "At 456\n",
      "At 457\n",
      "At 458\n",
      "At 459\n",
      "At 460\n",
      "At 461\n",
      "At 462\n",
      "At 463\n",
      "At 464\n",
      "At 465\n",
      "At 466\n",
      "At 467\n",
      "At 468\n",
      "At 469\n",
      "At 470\n",
      "At 471\n",
      "At 472\n",
      "At 473\n",
      "At 474\n",
      "At 475\n",
      "At 476\n",
      "At 477\n",
      "At 478\n",
      "At 479\n",
      "At 480\n",
      "At 481\n",
      "At 482\n",
      "At 483\n",
      "At 484\n",
      "At 485\n",
      "At 486\n",
      "At 487\n",
      "At 488\n",
      "At 489\n",
      "At 490\n",
      "At 491\n",
      "At 492\n",
      "At 493\n",
      "At 494\n",
      "At 495\n",
      "At 496\n",
      "At 497\n",
      "At 498\n",
      "At 499\n",
      "At 500\n"
     ]
    },
    {
     "data": {
      "text/plain": [
       "[26.64, 26.716, 26.69, 27.016, 27.118, 27.118, 27.196, 27.562, 27.674, 27.828]"
      ]
     },
     "execution_count": 149,
     "metadata": {},
     "output_type": "execute_result"
    }
   ],
   "source": [
    "# Obtain T(N) for a fixed N set\n",
    "MIN_N = 50\n",
    "MAX_N = 500\n",
    "\n",
    "def get_t_n_dataset(target_algorithm, min_n, max_n):\n",
    "    n_arr = []\n",
    "    t_n = []\n",
    "    for n in range(min_n, max_n+1):\n",
    "        print(f\"At {n}\")\n",
    "        estimate, counts = get_t_n(target_algorithm, n)\n",
    "        n_arr.append(n)\n",
    "        t_n.append(estimate)\n",
    "    \n",
    "    return n_arr, t_n\n",
    "\n",
    "n_arr, t_n = get_t_n_dataset(covid_binary_search_wrapper, MIN_N, MAX_N)\n",
    "t_n[:10]"
   ]
  },
  {
   "cell_type": "code",
   "execution_count": 153,
   "metadata": {},
   "outputs": [
    {
     "data": {
      "image/png": "[encoded data removed]",
      "text/plain": [
       "<Figure size 432x288 with 1 Axes>"
      ]
     },
     "metadata": {
      "needs_background": "light"
     },
     "output_type": "display_data"
    }
   ],
   "source": [
    "plt.plot(n_arr, t_n)\n",
    "plt.ylabel(\"T(N)\")\n",
    "plt.xlabel(\"N\")\n",
    "plt.show()"
   ]
  },
  {
   "cell_type": "markdown",
   "metadata": {},
   "source": [
    "Analysis\n",
    "---\n",
    "\n",
    "10x squiggly wiggly uWu. Looks like it's actually 2x for K = 5%.\n",
    "\n",
    "Clearly this is also a linear time algorithm. And this is with K = 5%. If you're testing a group of people, you already have your suspicions high enough that K will be higher than 5%. At least that's my hunch.\n",
    "\n",
    "When K = N, i.e everyone is infected, we will get $T(N) = 2N$, wasting $N$ kits. Yes I finally solved a recursion today. Go me."
   ]
  }
 ],
 "metadata": {
  "kernelspec": {
   "display_name": "Python 3",
   "language": "python",
   "name": "python3"
  },
  "language_info": {
   "codemirror_mode": {
    "name": "ipython",
    "version": 3
   },
   "file_extension": ".py",
   "mimetype": "text/x-python",
   "name": "python",
   "nbconvert_exporter": "python",
   "pygments_lexer": "ipython3",
   "version": "3.7.6"
  }
 },
 "nbformat": 4,
 "nbformat_minor": 2
}
